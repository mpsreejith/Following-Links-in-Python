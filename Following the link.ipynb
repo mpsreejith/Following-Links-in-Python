{
 "cells": [
  {
   "cell_type": "code",
   "execution_count": 1,
   "id": "44b74339",
   "metadata": {},
   "outputs": [
    {
     "name": "stdout",
     "output_type": "stream",
     "text": [
      "Enter -  http://py4e-data.dr-chuck.net/known_by_Merran.html\n",
      "Enter position:18\n",
      "Enter count:7\n",
      "http://py4e-data.dr-chuck.net/known_by_Bramble.html\n",
      "http://py4e-data.dr-chuck.net/known_by_Alexx.html\n",
      "http://py4e-data.dr-chuck.net/known_by_Fauzaan.html\n",
      "http://py4e-data.dr-chuck.net/known_by_Humayra.html\n",
      "http://py4e-data.dr-chuck.net/known_by_Moray.html\n",
      "http://py4e-data.dr-chuck.net/known_by_Rokas.html\n",
      "http://py4e-data.dr-chuck.net/known_by_Burak.html\n"
     ]
    }
   ],
   "source": [
    "import urllib.request, urllib.parse, urllib.error\n",
    "from bs4 import BeautifulSoup\n",
    "import ssl\n",
    "\n",
    "# Ignore SSL certificate errors\n",
    "ctx = ssl.create_default_context()\n",
    "ctx.check_hostname = False\n",
    "ctx.verify_mode = ssl.CERT_NONE\n",
    "\n",
    "url = input('Enter - ')\n",
    "position=int(input('Enter position:'))\n",
    "count=int(input('Enter count:'))\n",
    "\n",
    "\n",
    "for i in range(count):\n",
    "    html = urllib.request.urlopen(url, context=ctx).read()\n",
    "    soup = BeautifulSoup(html, 'html.parser')\n",
    "    tags = soup('a')\n",
    "    link=tags[position-1].get('href',None)\n",
    "    url=link\n",
    "    print(link)"
   ]
  },
  {
   "cell_type": "code",
   "execution_count": null,
   "id": "0608189d",
   "metadata": {},
   "outputs": [],
   "source": []
  }
 ],
 "metadata": {
  "kernelspec": {
   "display_name": "Python 3 (ipykernel)",
   "language": "python",
   "name": "python3"
  },
  "language_info": {
   "codemirror_mode": {
    "name": "ipython",
    "version": 3
   },
   "file_extension": ".py",
   "mimetype": "text/x-python",
   "name": "python",
   "nbconvert_exporter": "python",
   "pygments_lexer": "ipython3",
   "version": "3.9.12"
  }
 },
 "nbformat": 4,
 "nbformat_minor": 5
}
